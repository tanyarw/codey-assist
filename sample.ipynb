{
 "cells": [
  {
   "cell_type": "code",
   "execution_count": 1,
   "metadata": {},
   "outputs": [
    {
     "name": "stderr",
     "output_type": "stream",
     "text": [
      "/Users/tanyawarrier/Desktop/projects/codey-assist/.venv/lib/python3.9/site-packages/urllib3/__init__.py:35: NotOpenSSLWarning: urllib3 v2 only supports OpenSSL 1.1.1+, currently the 'ssl' module is compiled with 'LibreSSL 2.8.3'. See: https://github.com/urllib3/urllib3/issues/3020\n",
      "  warnings.warn(\n"
     ]
    }
   ],
   "source": [
    "%load_ext codey_assist"
   ]
  },
  {
   "cell_type": "code",
   "execution_count": 2,
   "metadata": {},
   "outputs": [],
   "source": [
    "q = 3"
   ]
  },
  {
   "cell_type": "code",
   "execution_count": 3,
   "metadata": {},
   "outputs": [
    {
     "name": "stdout",
     "output_type": "stream",
     "text": [
      "Response is in the next cell!\n"
     ]
    }
   ],
   "source": [
    "%%codey\n",
    "generate fibonacci series"
   ]
  },
  {
   "cell_type": "code",
   "execution_count": null,
   "metadata": {},
   "outputs": [],
   "source": [
    "a = 0\n",
    "b = 1\n",
    "if q <= 0:\n",
    "    print(\"Please enter a positive integer\")\n",
    "elif q == 1:\n",
    "    print(a)\n",
    "else:\n",
    "    print(a)\n",
    "    print(b)\n",
    "    for i in range(2, q):\n",
    "        c = a + b\n",
    "        a = b\n",
    "        b = c\n",
    "        print(c)"
   ]
  },
  {
   "cell_type": "code",
   "execution_count": 2,
   "metadata": {},
   "outputs": [
    {
     "name": "stdout",
     "output_type": "stream",
     "text": [
      " The `chunk_code` function chunks a code file into smaller units. It takes a file name as input and returns a list of code chunks. Each code chunk is a string that contains a portion of the code from the original file.\n",
      "\n",
      "Here's an example of how to use the `chunk_code` function:\n",
      "\n",
      "```python\n",
      "import code_qna_gen\n",
      "\n",
      "# Chunk a Python file into smaller units\n",
      "python_file = 'my_python_file.py'\n",
      "python_chunks = code_qna_gen.chunk_code(python_file)\n",
      "\n",
      "# Chunk a JavaScript file into smaller units\n",
      "javascript_file = 'my_javascript_file.js'\n",
      "javascript_chunks = code_qna_gen.chunk_code(javascript_file)\n",
      "\n",
      "# Chunk a Markdown file into smaller units\n",
      "markdown_file = 'my_markdown_file.md'\n",
      "markdown_chunks = code_qna_gen.chunk_code(markdown_file)\n",
      "```\n",
      "\n",
      "The `chunk_code` function can be used to improve the performance of code search and code understanding tools. By chunking code into smaller units, these tools can more easily index and search the code, and they can also provide more accurate and helpful code suggestions.\n"
     ]
    }
   ],
   "source": [
    "%%code_qna\n",
    "What function chunks a code into smaller units?"
   ]
  }
 ],
 "metadata": {
  "kernelspec": {
   "display_name": ".venv",
   "language": "python",
   "name": "python3"
  },
  "language_info": {
   "codemirror_mode": {
    "name": "ipython",
    "version": 3
   },
   "file_extension": ".py",
   "mimetype": "text/x-python",
   "name": "python",
   "nbconvert_exporter": "python",
   "pygments_lexer": "ipython3",
   "version": "3.10.14"
  }
 },
 "nbformat": 4,
 "nbformat_minor": 2
}
