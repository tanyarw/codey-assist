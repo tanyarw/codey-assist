{
 "cells": [
  {
   "cell_type": "code",
   "execution_count": 1,
   "metadata": {},
   "outputs": [
    {
     "name": "stderr",
     "output_type": "stream",
     "text": [
      "/Users/tanyawarrier/Desktop/projects/codey-assist/.venv/lib/python3.9/site-packages/urllib3/__init__.py:35: NotOpenSSLWarning: urllib3 v2 only supports OpenSSL 1.1.1+, currently the 'ssl' module is compiled with 'LibreSSL 2.8.3'. See: https://github.com/urllib3/urllib3/issues/3020\n",
      "  warnings.warn(\n"
     ]
    }
   ],
   "source": [
    "%load_ext codey_assist"
   ]
  },
  {
   "cell_type": "code",
   "execution_count": 2,
   "metadata": {},
   "outputs": [],
   "source": [
    "n = 3"
   ]
  },
  {
   "cell_type": "markdown",
   "metadata": {},
   "source": [
    "# woah"
   ]
  },
  {
   "cell_type": "code",
   "execution_count": 3,
   "metadata": {},
   "outputs": [
    {
     "name": "stderr",
     "output_type": "stream",
     "text": [
      "2024-04-10 01:14:25,807 - codey-assist - INFO - Magic command query: generate fibonacci series\n",
      "\n",
      "2024-04-10 01:14:25,808 - codey-assist - INFO - Other code cells found: \n",
      "\n",
      "n = 3\n",
      "2024-04-10 01:14:30,381 - codey-assist - INFO - Generated: ```python\n",
      "def fibonacci(n):\n",
      "    \"\"\"Generate the fibonacci series up to n.\"\"\"\n",
      "    a, b = 0, 1\n",
      "    while a < n:\n",
      "        print(a, end=' ')\n",
      "        a, b = b, a + b\n",
      "\n",
      "fibonacci(n)\n",
      "```\n"
     ]
    }
   ],
   "source": [
    "%%codey\n",
    "generate fibonacci series"
   ]
  }
 ],
 "metadata": {
  "kernelspec": {
   "display_name": ".venv",
   "language": "python",
   "name": "python3"
  },
  "language_info": {
   "codemirror_mode": {
    "name": "ipython",
    "version": 3
   },
   "file_extension": ".py",
   "mimetype": "text/x-python",
   "name": "python",
   "nbconvert_exporter": "python",
   "pygments_lexer": "ipython3",
   "version": "3.9.6"
  }
 },
 "nbformat": 4,
 "nbformat_minor": 2
}
