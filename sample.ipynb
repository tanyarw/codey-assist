{
 "cells": [
  {
   "cell_type": "code",
   "execution_count": 1,
   "metadata": {},
   "outputs": [
    {
     "name": "stderr",
     "output_type": "stream",
     "text": [
      "/Users/tanyawarrier/Desktop/projects/codey-assist/.venv/lib/python3.9/site-packages/urllib3/__init__.py:35: NotOpenSSLWarning: urllib3 v2 only supports OpenSSL 1.1.1+, currently the 'ssl' module is compiled with 'LibreSSL 2.8.3'. See: https://github.com/urllib3/urllib3/issues/3020\n",
      "  warnings.warn(\n"
     ]
    }
   ],
   "source": [
    "%load_ext codey_assist"
   ]
  },
  {
   "cell_type": "code",
   "execution_count": 2,
   "metadata": {},
   "outputs": [],
   "source": [
    "n = 3"
   ]
  },
  {
   "cell_type": "markdown",
   "metadata": {},
   "source": [
    "# woah"
   ]
  },
  {
   "cell_type": "code",
   "execution_count": 3,
   "metadata": {},
   "outputs": [
    {
     "name": "stdout",
     "output_type": "stream",
     "text": [
      "```python\n",
      "def fibonacci(n):\n",
      "    # Initialize the first two Fibonacci numbers.\n",
      "    a, b = 0, 1\n",
      "\n",
      "    # Iterate over the remaining n - 2 terms.\n",
      "    for _ in range(n - 2):\n",
      "        # Calculate the next Fibonacci number.\n",
      "        c = a + b\n",
      "\n",
      "        # Update the first and second Fibonacci numbers.\n",
      "        a = b\n",
      "        b = c\n",
      "\n",
      "    # Return the last Fibonacci number.\n",
      "    return b\n",
      "```\n"
     ]
    }
   ],
   "source": [
    "%%codey\n",
    "generate fibonacci series for n terms"
   ]
  },
  {
   "cell_type": "code",
   "execution_count": 4,
   "metadata": {},
   "outputs": [
    {
     "name": "stdout",
     "output_type": "stream",
     "text": [
      " The `chunk_code` function chunks a code file into smaller units under 512 characters.\n",
      "\n",
      "Here's a code snippet that demonstrates how to use the `chunk_code` function:\n",
      "\n",
      "```python\n",
      "from code_qna_gen import chunk_code\n",
      "\n",
      "file_name = \"my_code.py\"\n",
      "chunked_code = chunk_code(file_name)\n",
      "\n",
      "for chunk in chunked_code:\n",
      "    print(chunk)\n",
      "```\n"
     ]
    }
   ],
   "source": [
    "%%code_qna\n",
    "What function chunks a code into smaller units?"
   ]
  }
 ],
 "metadata": {
  "kernelspec": {
   "display_name": ".venv",
   "language": "python",
   "name": "python3"
  },
  "language_info": {
   "codemirror_mode": {
    "name": "ipython",
    "version": 3
   },
   "file_extension": ".py",
   "mimetype": "text/x-python",
   "name": "python",
   "nbconvert_exporter": "python",
   "pygments_lexer": "ipython3",
   "version": "3.9.6"
  }
 },
 "nbformat": 4,
 "nbformat_minor": 2
}
