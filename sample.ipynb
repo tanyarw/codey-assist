{
 "cells": [
  {
   "cell_type": "code",
   "execution_count": 1,
   "metadata": {},
   "outputs": [
    {
     "name": "stderr",
     "output_type": "stream",
     "text": [
      "/Users/tanyawarrier/Desktop/projects/codey-assist/.venv/lib/python3.9/site-packages/urllib3/__init__.py:35: NotOpenSSLWarning: urllib3 v2 only supports OpenSSL 1.1.1+, currently the 'ssl' module is compiled with 'LibreSSL 2.8.3'. See: https://github.com/urllib3/urllib3/issues/3020\n",
      "  warnings.warn(\n"
     ]
    }
   ],
   "source": [
    "%load_ext codey_assist"
   ]
  },
  {
   "cell_type": "code",
   "execution_count": 2,
   "metadata": {},
   "outputs": [],
   "source": [
    "n = 3"
   ]
  },
  {
   "cell_type": "markdown",
   "metadata": {},
   "source": [
    "# woah"
   ]
  },
  {
   "cell_type": "code",
   "execution_count": 3,
   "metadata": {},
   "outputs": [
    {
     "name": "stdout",
     "output_type": "stream",
     "text": [
      "```python\n",
      "def fib(n):\n",
      "    a, b = 0, 1\n",
      "    for _ in range(n):\n",
      "        a, b = b, a + b\n",
      "    return a\n",
      "```\n"
     ]
    }
   ],
   "source": [
    "%%codey\n",
    "generate fibonacci series for n terms"
   ]
  },
  {
   "cell_type": "code",
   "execution_count": 4,
   "metadata": {},
   "outputs": [
    {
     "name": "stdout",
     "output_type": "stream",
     "text": [
      "def chunk_code(file_name):\n",
      "    \"\"\"Chunks a code file into smaller units under 512 characters.\"\"\"\n",
      "    chunked_code = []\n",
      "\n",
      "    if file_name.endswith(\".py\"):\n",
      "        python_splitter = RecursiveCharacterTextSplitter.from_language(\n",
      "            language=Language.PYTHON, chunk_size=1000, chunk_overlap=100\n",
      "        )\n",
      "        with open(file_name, \"r\") as f:\n",
      "            code = f.read()\n",
      "            chunked_code = python_splitter.create_documents(\n",
      "                [code], metadatas=[{\"source\": file_name}]\n",
      "            )\n",
      "\n",
      "    elif file_name.endswith(\".js\"):\n",
      "        js_splitter = RecursiveCharacterTextSplitter.from_language(\n",
      "            language=Language.JS, chunk_size=1000, chunk_overlap=100\n",
      "        )\n",
      "        with open(file_name, \"r\") as f:\n",
      "            code = f.read()\n",
      "            chunked_code = js_splitter.create_documents(\n",
      "                [code], metadatas=[{\"source\": file_name}]\n",
      "            )\n",
      "\n",
      "    return chunked_code\n",
      "* * * * * * * * * * * * * * * * * * * * \n",
      "def chunk_code(file_name):\n",
      "    \"\"\"Chunks a code file into smaller units under 512 characters.\"\"\"\n",
      "    chunked_code = []\n",
      "\n",
      "    if file_name.endswith(\".py\"):\n",
      "        python_splitter = RecursiveCharacterTextSplitter.from_language(\n",
      "            language=Language.PYTHON, chunk_size=1000, chunk_overlap=100\n",
      "        )\n",
      "        with open(file_name, \"r\") as f:\n",
      "            code = f.read()\n",
      "            chunked_code = python_splitter.create_documents(\n",
      "                [code], metadatas=[{\"source\": file_name}]\n",
      "            )\n",
      "\n",
      "    elif file_name.endswith(\".js\"):\n",
      "        js_splitter = RecursiveCharacterTextSplitter.from_language(\n",
      "            language=Language.JS, chunk_size=1000, chunk_overlap=100\n",
      "        )\n",
      "        with open(file_name, \"r\") as f:\n",
      "            code = f.read()\n",
      "            chunked_code = js_splitter.create_documents(\n",
      "                [code], metadatas=[{\"source\": file_name}]\n",
      "            )\n",
      "\n",
      "    return chunked_code\n",
      "* * * * * * * * * * * * * * * * * * * * \n",
      "# Load documents, generate vectors and store in Vector database\n",
      "        code_chunks = []\n",
      "        for file in all_files:\n",
      "            code_chunks.extend(code_qna_gen.chunk_code(file))\n",
      "\n",
      "        db = code_qna_gen.create_index(code_chunks)\n",
      "\n",
      "        code_qna_gen.answer_question(line + \"\\n\" + cell, db)\n",
      "* * * * * * * * * * * * * * * * * * * * \n",
      " The function `chunk_code` chunks a code file into smaller units under 512 characters.\n"
     ]
    }
   ],
   "source": [
    "%%code_qna\n",
    "What function chunks a code into smaller units?"
   ]
  }
 ],
 "metadata": {
  "kernelspec": {
   "display_name": ".venv",
   "language": "python",
   "name": "python3"
  },
  "language_info": {
   "codemirror_mode": {
    "name": "ipython",
    "version": 3
   },
   "file_extension": ".py",
   "mimetype": "text/x-python",
   "name": "python",
   "nbconvert_exporter": "python",
   "pygments_lexer": "ipython3",
   "version": "3.9.6"
  }
 },
 "nbformat": 4,
 "nbformat_minor": 2
}
